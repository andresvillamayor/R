{
  "nbformat": 4,
  "nbformat_minor": 0,
  "metadata": {
    "colab": {
      "provenance": [],
      "authorship_tag": "ABX9TyMA1jQhj/xUQn2sq6CqcT7A",
      "include_colab_link": true
    },
    "kernelspec": {
      "name": "ir",
      "display_name": "R"
    },
    "language_info": {
      "name": "R"
    }
  },
  "cells": [
    {
      "cell_type": "markdown",
      "metadata": {
        "id": "view-in-github",
        "colab_type": "text"
      },
      "source": [
        "<a href=\"https://colab.research.google.com/github/andresvillamayor/R/blob/main/R_Begineer_01.ipynb\" target=\"_parent\"><img src=\"https://colab.research.google.com/assets/colab-badge.svg\" alt=\"Open In Colab\"/></a>"
      ]
    },
    {
      "cell_type": "markdown",
      "source": [
        "---\n",
        "### Para que Google Colab tome el Lenguaje R se debe seguir los siguientes pasos\n",
        "- Ir al menú de Entorno de Ejecución\n",
        "- Entrar en Cambiar tipo de entorno de ejecución\n",
        "- Aparecera una ventana donde dice:\n",
        "  - Entorno de Ejecución con un flecha, haz clic en la flecha\n",
        "  - Te aparecera tanto el entrono de Python como de R\n",
        "  - Selecciona R\n",
        "  - En la Ventana , abajo a tu derecha pulsa Guardar\n",
        "\n",
        "## Uso de R para Begineer 01\n",
        "\n",
        "- Tipo de Datos\n",
        "---"
      ],
      "metadata": {
        "id": "NhZzdjCje1SV"
      }
    },
    {
      "cell_type": "code",
      "execution_count": 1,
      "metadata": {
        "id": "cnssJiJ_ddw9"
      },
      "outputs": [],
      "source": [
        "# Tipo de Dato\n",
        "# Integer\n",
        "x <- 2L      # x toma el valor como una variable global"
      ]
    },
    {
      "cell_type": "code",
      "source": [
        "# Para saber el tipo de dato el uso de typeof\n",
        "typeof(x)  # con esta funcion se puede ver el tipo de dato que contiene x"
      ],
      "metadata": {
        "colab": {
          "base_uri": "https://localhost:8080/",
          "height": 34
        },
        "id": "QZHZh_RCeLX8",
        "outputId": "70e63832-bffa-4bcb-eb6a-9a8554b049ac"
      },
      "execution_count": 2,
      "outputs": [
        {
          "output_type": "display_data",
          "data": {
            "text/html": [
              "'integer'"
            ],
            "text/markdown": "'integer'",
            "text/latex": "'integer'",
            "text/plain": [
              "[1] \"integer\""
            ]
          },
          "metadata": {}
        }
      ]
    },
    {
      "cell_type": "code",
      "source": [
        "# Si sacamos la L del valor de x, R toma la variable como valor double por defecto\n",
        "x <-2"
      ],
      "metadata": {
        "id": "18O3uAJJhmDt"
      },
      "execution_count": 6,
      "outputs": []
    },
    {
      "cell_type": "code",
      "source": [
        "# Tipo de Variable que por defecto toma R seria double\n",
        "typeof(x)"
      ],
      "metadata": {
        "colab": {
          "base_uri": "https://localhost:8080/",
          "height": 34
        },
        "id": "eRXMY9t-h5YX",
        "outputId": "3587c4e9-7680-4dfc-9277-45238675d6ae"
      },
      "execution_count": 7,
      "outputs": [
        {
          "output_type": "display_data",
          "data": {
            "text/html": [
              "'double'"
            ],
            "text/markdown": "'double'",
            "text/latex": "'double'",
            "text/plain": [
              "[1] \"double\""
            ]
          },
          "metadata": {}
        }
      ]
    },
    {
      "cell_type": "code",
      "source": [
        "# Tipo de Dato\n",
        "# Double\n",
        "y <- 2.5  # asignamos el valor double 2.5"
      ],
      "metadata": {
        "id": "TQbW1ezHeYBG"
      },
      "execution_count": 4,
      "outputs": []
    },
    {
      "cell_type": "code",
      "source": [
        "# Vemos el tipo de dato\n",
        "typeof(y)  # con la funcion vemos el tipo de dato de y"
      ],
      "metadata": {
        "colab": {
          "base_uri": "https://localhost:8080/",
          "height": 34
        },
        "id": "seAa1LUeg-XU",
        "outputId": "03679d76-2f4e-4b42-a4e0-81f7f9b63fec"
      },
      "execution_count": 5,
      "outputs": [
        {
          "output_type": "display_data",
          "data": {
            "text/html": [
              "'double'"
            ],
            "text/markdown": "'double'",
            "text/latex": "'double'",
            "text/plain": [
              "[1] \"double\""
            ]
          },
          "metadata": {}
        }
      ]
    }
  ]
}